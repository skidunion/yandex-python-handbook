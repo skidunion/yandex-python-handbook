{
 "cells": [
  {
   "cell_type": "markdown",
   "metadata": {},
   "source": [
    "# Генератор списков\n",
    "\n",
    "Большинство задач этой главы ориентировано на отработку навыков по разработке функций.\n",
    "\n",
    "Ваше решение будет использоваться как библиотека.\n",
    "\n",
    "Напишите функцию `make_list`, которая создаёт, заполняет и возвращает список заданного размера.\n",
    "\n",
    "Параметры функции:\n",
    "\n",
    "- length — требуемая длина списка;\n",
    "- value — значение элементов списка (по-умолчанию 0).\n",
    "\n",
    "## Примечание\n",
    "\n",
    "Ваше решение должно содержать только функции.\n",
    "\n",
    "В решении не должно быть вызовов требуемых функций.\n",
    "\n",
    "### Пример 1\n",
    "\n",
    "| Ввод | Вывод |\n",
    "| ---- | ----- |\n",
    "| `result = make_list(3)` | `result = [0, 0, 0]` |\n",
    "\n",
    "### Пример 2\n",
    "\n",
    "| Ввод | Вывод |\n",
    "| ---- | ----- |\n",
    "| `result = make_list(5, 1)` | `result = [1, 1, 1, 1, 1]` |\n"
   ]
  },
  {
   "cell_type": "code",
   "execution_count": 1,
   "metadata": {},
   "outputs": [],
   "source": [
    "def make_list(length, value=0):\n",
    "    return [value] * length"
   ]
  },
  {
   "cell_type": "code",
   "execution_count": 2,
   "metadata": {},
   "outputs": [
    {
     "name": "stdout",
     "output_type": "stream",
     "text": [
      "[0, 0, 0]\n",
      "[1, 1, 1, 1, 1]\n"
     ]
    }
   ],
   "source": [
    "print(make_list(3))\n",
    "print(make_list(5, 1))"
   ]
  },
  {
   "cell_type": "markdown",
   "metadata": {},
   "source": [
    "# Генератор матриц\n",
    "\n",
    "Напишите функцию `make_matrix`, которая создаёт, заполняет и возвращает матрицу заданного размера.\n",
    "\n",
    "Параметры функции:\n",
    "\n",
    "- size — кортеж (ширина, высота) или одно число (для создания квадратной матрицы);\n",
    "- value — значение элементов списка (по-умолчанию 0).\n",
    "\n",
    "## Примечание\n",
    "\n",
    "Ваше решение должно содержать только функции.\n",
    "\n",
    "В решении не должно быть вызовов требуемых функций.\n",
    "\n",
    "### Пример 1\n",
    "\n",
    "| Ввод | Вывод |\n",
    "| ---- | ----- |\n",
    "| `result = make_matrix(3)` | `result = [`<br>&nbsp;&nbsp;&nbsp;&nbsp;`[0, 0, 0],`<br>&nbsp;&nbsp;&nbsp;&nbsp;`[0, 0, 0],`<br>&nbsp;&nbsp;&nbsp;&nbsp;`[0, 0, 0]`<br>`]` |\n",
    "\n",
    "### Пример 2\n",
    "\n",
    "| Ввод | Вывод |\n",
    "| ---- | ----- |\n",
    "| `result = make_matrix((4, 2), 1)` | `result = [`<br>&nbsp;&nbsp;&nbsp;&nbsp;`[1, 1, 1, 1],`<br>&nbsp;&nbsp;&nbsp;&nbsp;`[1, 1, 1, 1]`<br>`]` |"
   ]
  },
  {
   "cell_type": "code",
   "execution_count": 12,
   "metadata": {},
   "outputs": [],
   "source": [
    "def make_matrix(size: tuple[int, int] | int, value=0):\n",
    "    if isinstance(size, int):\n",
    "        n, m = size, size\n",
    "    else:\n",
    "        n, m = size\n",
    "    result = []\n",
    "    for _ in range(m):\n",
    "        result.append([value] * n)\n",
    "    return result"
   ]
  },
  {
   "cell_type": "code",
   "execution_count": 13,
   "metadata": {},
   "outputs": [
    {
     "name": "stdout",
     "output_type": "stream",
     "text": [
      "[[0, 0, 0], [0, 0, 0], [0, 0, 0]]\n",
      "[[1, 1, 1, 1], [1, 1, 1, 1]]\n"
     ]
    }
   ],
   "source": [
    "print(make_matrix(3))\n",
    "print(make_matrix((4, 2), 1))"
   ]
  },
  {
   "cell_type": "markdown",
   "metadata": {},
   "source": [
    "# Функциональный нод 2.0\n",
    "\n",
    "Напишите функцию `gcd`, которая вычисляет наибольший общий делитель последовательности чисел.\n",
    "\n",
    "Параметрами функции выступают натуральные числа в произвольном количестве, но не менее одного.\n",
    "\n",
    "## Примечание\n",
    "\n",
    "Ваше решение должно содержать только функции.\n",
    "\n",
    "В решении не должно быть вызовов требуемых функций.\n",
    "\n",
    "### Пример 1\n",
    "\n",
    "| Ввод | Вывод |\n",
    "| ---- | ----- |\n",
    "| `result = gcd(3)` | `result =  3` |\n",
    "\n",
    "### Пример 2\n",
    "\n",
    "| Ввод | Вывод |\n",
    "| ---- | ----- |\n",
    "| `result = gcd(36, 48, 156, 100500)` | `result =  12` |"
   ]
  },
  {
   "cell_type": "code",
   "execution_count": 6,
   "metadata": {},
   "outputs": [],
   "source": [
    "def gcd(*args: int) -> int:\n",
    "    a = args[0]\n",
    "    for b in args[1:]:\n",
    "        while a != b:\n",
    "            if a > b:\n",
    "                a -= b\n",
    "            else:\n",
    "                b -= a\n",
    "    return a"
   ]
  },
  {
   "cell_type": "code",
   "execution_count": 9,
   "metadata": {},
   "outputs": [
    {
     "name": "stdout",
     "output_type": "stream",
     "text": [
      "3\n",
      "12\n"
     ]
    }
   ],
   "source": [
    "print(gcd(3))\n",
    "print(gcd(36, 48, 156, 100500))"
   ]
  },
  {
   "cell_type": "markdown",
   "metadata": {},
   "source": [
    "# Имя of the month 2.0\n",
    "\n",
    "Разработайте функцию `month`, которая возвращает название заданного месяца с заглавной буквы. Функция должна принимать номер месяца и дополнительно обозначение языка (по умолчанию \"ru\").\n",
    "\n",
    "## Примечание\n",
    "\n",
    "Ваше решение должно содержать только функции.\n",
    "\n",
    "В решении не должно быть вызовов требуемых функций.\n",
    "\n",
    "### Пример 1\n",
    "\n",
    "| Ввод | Вывод |\n",
    "| ---- | ----- |\n",
    "| `result = month(1, \"en\")` | `result = 'January'` |\n",
    "\n",
    "### Пример 2\n",
    "\n",
    "| Ввод | Вывод |\n",
    "| ---- | ----- |\n",
    "| `result = month(7)` | `result = 'Июль'` |\n"
   ]
  },
  {
   "cell_type": "code",
   "execution_count": 14,
   "metadata": {},
   "outputs": [],
   "source": [
    "def month(month: int, locale: str = 'ru') -> str:\n",
    "    months = {\n",
    "        'ru': ['Январь', 'Февраль', 'Март', 'Апрель',\n",
    "               'Май', 'Июнь', 'Июль', 'Август',\n",
    "               'Сентябрь', 'Октябрь', 'Ноябрь', 'Декабрь'],\n",
    "        'en': ['January', 'February', 'March', 'April',\n",
    "               'May', 'June', 'July', 'August',\n",
    "               'September', 'October', 'November', 'December']\n",
    "    }\n",
    "    return months[locale][month - 1]"
   ]
  },
  {
   "cell_type": "code",
   "execution_count": 15,
   "metadata": {},
   "outputs": [
    {
     "name": "stdout",
     "output_type": "stream",
     "text": [
      "January\n",
      "Июль\n"
     ]
    }
   ],
   "source": [
    "print(month(1, 'en'))\n",
    "print(month(7))"
   ]
  },
  {
   "cell_type": "markdown",
   "metadata": {},
   "source": [
    "# Подготовка данных\n",
    "\n",
    "Напишите функцию `to_string`, которая формирует из последовательности данных строку.\n",
    "\n",
    "Функция должна принимать:\n",
    "\n",
    "- неопределённое количество данных;\n",
    "- необязательный параметр sep (по умолчанию пробел);\n",
    "- необязательный параметр end (по умолчанию \\n).\n",
    "\n",
    "## Примечание\n",
    "\n",
    "Ваше решение должно содержать только функции.\n",
    "\n",
    "В решении не должно быть вызовов требуемых функций.\n",
    "\n",
    "### Пример 1\n",
    "\n",
    "| Ввод | Вывод |\n",
    "| ---- | ----- |\n",
    "| `result = to_string(1, 2, 3)` | `result = '1 2 3\\n'` |\n",
    "\n",
    "### Пример 2\n",
    "\n",
    "| Ввод | Вывод |\n",
    "| ---- | ----- |\n",
    "| `data = [7, 3, 1, \"hello\", (1, 2, 3)]`<br>`result = to_string(*data, sep=\", \", end=\"!\")` | `result = '7, 3, 1, hello, (1, 2, 3)!'` |"
   ]
  },
  {
   "cell_type": "code",
   "execution_count": 17,
   "metadata": {},
   "outputs": [],
   "source": [
    "def to_string(*args, sep: str = ' ', end: str = '\\n') -> str:\n",
    "    return sep.join(map(str, args)) + end"
   ]
  },
  {
   "cell_type": "code",
   "execution_count": 22,
   "metadata": {},
   "outputs": [
    {
     "data": {
      "text/plain": [
       "'1 2 3\\n'"
      ]
     },
     "execution_count": 22,
     "metadata": {},
     "output_type": "execute_result"
    }
   ],
   "source": [
    "to_string(1, 2, 3)"
   ]
  },
  {
   "cell_type": "code",
   "execution_count": 21,
   "metadata": {},
   "outputs": [
    {
     "data": {
      "text/plain": [
       "'7, 3, 1, hello, (1, 2, 3)!'"
      ]
     },
     "execution_count": 21,
     "metadata": {},
     "output_type": "execute_result"
    }
   ],
   "source": [
    "data = [7, 3, 1, \"hello\", (1, 2, 3)]\n",
    "to_string(*data, sep=\", \", end=\"!\")"
   ]
  },
  {
   "cell_type": "markdown",
   "metadata": {},
   "source": [
    "# Кофейня\n",
    "\n",
    "Руководство местной кофейни для программистов под названием `Java-0x00` решило модернизировать систему заказа кофе.\n",
    "\n",
    "Для этого им требуется реализовать функцию `order`, которая принимает список предпочтений посетителя в порядке «убывания желания».\n",
    "\n",
    "Согласно положению, каждый напиток в кофейне строго определён рецептом:\n",
    "\n",
    "- Эспрессо готовится из: 1 порции кофейных зерен.\n",
    "- Капучино готовится из: 1 порции кофейных зерен и 3 порций молока.\n",
    "- Макиато готовится из: 2 порций кофейных зерен и 1 порции молока.\n",
    "- Кофе по-венски готовится из: 1 порции кофейных зерен и 2 порций взбитых сливок.\n",
    "- Латте Макиато готовится из: 1 порции кофейных зерен, 2 порций молока и 1 порции взбитых сливок.\n",
    "- Кон Панна готовится из: 1 порции кофейных зерен и 1 порции взбитых сливок.\n",
    "\n",
    "В глобальной переменной `in_stock` содержится словарь, описывающий ингредиенты в наличии. Ключи словаря: `coffee`, `cream`, `milk`.\n",
    "\n",
    "Функция должна вернуть:\n",
    "\n",
    "- название напитка, который будет приготовлен;\n",
    "- сообщение «К сожалению, не можем предложить Вам напиток», если ни одно из предпочтений не может быть приготовлено.\n",
    "\n",
    "Если заказ, может быть совершён, количество доступных ингредиентов должно соответствующим образом уменьшиться.\n",
    "\n",
    "## Примечание\n",
    "\n",
    "В решении не должно быть вызовов требуемых функций.\n",
    "\n",
    "### Пример 1\n",
    "\n",
    "| Ввод | Вывод |\n",
    "| ---- | ----- |\n",
    "| `in_stock = {\"coffee\": 1, \"milk\": 2, \"cream\": 3}`<br>`print(order(\"Эспрессо\", \"Капучино\", \"Макиато\", \"Кофе по-венски\", \"Латте Макиато\", \"Кон Панна\"))`<br>`print(order(\"Эспрессо\", \"Капучино\", \"Макиато\", \"Кофе по-венски\", \"Латте Макиато\", \"Кон Панна\"))` | `Эспрессо`<br>`К сожалению, не можем предложить Вам напиток` |\n",
    "\n",
    "### Пример 2\n",
    "\n",
    "| Ввод | Вывод |\n",
    "| ---- | ----- |\n",
    "| `in_stock = {\"coffee\": 4, \"milk\": 4, \"cream\": 0}`<br>`print(order(\"Капучино\", \"Макиато\", \"Эспрессо\"))`<br>`print(order(\"Капучино\", \"Макиато\", \"Эспрессо\"))`<br>`print(order(\"Капучино\", \"Макиато\", \"Эспрессо\"))` | `Капучино`<br>`Макиато`<br>`Эспрессо` |"
   ]
  },
  {
   "cell_type": "code",
   "execution_count": null,
   "metadata": {},
   "outputs": [],
   "source": [
    "in_stock = { 'coffee': 0, 'cream': 0, 'milk': 0 }"
   ]
  },
  {
   "cell_type": "code",
   "execution_count": 25,
   "metadata": {},
   "outputs": [],
   "source": [
    "def order(*args: str) -> str:\n",
    "    items = {\n",
    "        'Эспрессо': (1, 0, 0),\n",
    "        'Капучино': (1, 0, 3),\n",
    "        'Макиато': (2, 0, 1),\n",
    "        'Кофе по-венски': (1, 2, 0),\n",
    "        'Латте Макиато': (1, 1, 2),\n",
    "        'Кон Панна': (1, 1, 0),\n",
    "    }\n",
    "    for item in args:\n",
    "        coffee, cream, milk = items[item]\n",
    "        if in_stock['coffee'] >= coffee \\\n",
    "                and in_stock['cream'] >= cream \\\n",
    "                and in_stock['milk'] >= milk:\n",
    "            in_stock['coffee'] -= coffee\n",
    "            in_stock['cream'] -= cream\n",
    "            in_stock['milk'] -= milk\n",
    "            return item\n",
    "    return 'К сожалению, не можем предложить Вам напиток'"
   ]
  },
  {
   "cell_type": "code",
   "execution_count": 28,
   "metadata": {},
   "outputs": [
    {
     "name": "stdout",
     "output_type": "stream",
     "text": [
      "Эспрессо\n",
      "К сожалению, не можем предложить Вам напиток\n"
     ]
    }
   ],
   "source": [
    "in_stock = {\"coffee\": 1, \"milk\": 2, \"cream\": 3}\n",
    "print(order(\"Эспрессо\", \"Капучино\", \"Макиато\", \"Кофе по-венски\", \"Латте Макиато\", \"Кон Панна\"))\n",
    "print(order(\"Эспрессо\", \"Капучино\", \"Макиато\", \"Кофе по-венски\", \"Латте Макиато\", \"Кон Панна\"))"
   ]
  },
  {
   "cell_type": "code",
   "execution_count": 29,
   "metadata": {},
   "outputs": [
    {
     "name": "stdout",
     "output_type": "stream",
     "text": [
      "Капучино\n",
      "Макиато\n",
      "Эспрессо\n"
     ]
    }
   ],
   "source": [
    "in_stock = {\"coffee\": 4, \"milk\": 4, \"cream\": 0}\n",
    "print(order(\"Капучино\", \"Макиато\", \"Эспрессо\"))\n",
    "print(order(\"Капучино\", \"Макиато\", \"Эспрессо\"))\n",
    "print(order(\"Капучино\", \"Макиато\", \"Эспрессо\"))"
   ]
  },
  {
   "cell_type": "markdown",
   "metadata": {},
   "source": [
    "# В эфире рубрика «Эксперименты»\n",
    "\n",
    "Лаборанты проводят эксперимент и запросили разработку системы обработки данных. Результатами эксперимента должны стать пары рациональных чисел.\n",
    "\n",
    "Для работы им требуются функции:\n",
    "\n",
    "- `enter_results(first, second, ...)` — добавление данных одного или нескольких результатов  (гарантируется, что количество параметров будет чётным);\n",
    "- `get_sum()` — возвращает пару сумм результатов экспериментов;\n",
    "- `get_average()` — возвращает пару средних арифметических значений результатов экспериментов.\n",
    "\n",
    "Все вычисления производятся с точностью до сотых.\n",
    "\n",
    "## Примечание\n",
    "\n",
    "В решении не должно быть вызовов требуемых функций.\n",
    "\n",
    "### Пример 1\n",
    "\n",
    "| Ввод | Вывод |\n",
    "| ---- | ----- |\n",
    "| `enter_results(1, 2, 3, 4, 5, 6)`<br>`print(get_sum(), get_average())`<br>`enter_results(1, 2)`<br>`print(get_sum(), get_average())` | `(9, 12) (3.0, 4.0)`<br>`(10, 14) (2.5, 3.5)` |\n",
    "\n",
    "### Пример 2\n",
    "\n",
    "| Ввод | Вывод |\n",
    "| ---- | ----- |\n",
    "| `enter_results(3.5, 2.14, 45.2, 37.99)`<br>`print(get_sum(), get_average())`<br>`enter_results(5.2, 7.3)`<br>`print(get_sum(), get_average())`<br>`enter_results(1.23, 4.56, 3.14, 2.71, 0, 0)`<br>`print(get_sum(), get_average())` | `(48.7, 40.13) (24.35, 20.07)`<br>`(53.9, 47.43) (17.97, 15.81)`<br>`(58.27, 54.7) (9.71, 9.12)` |"
   ]
  },
  {
   "cell_type": "code",
   "execution_count": 38,
   "metadata": {},
   "outputs": [],
   "source": [
    "p1: list[float] = []\n",
    "p2: list[float] = []\n",
    "\n",
    "\n",
    "def enter_results(*args: float):\n",
    "    for i in range(len(args)):\n",
    "        if i % 2 == 0:\n",
    "            p1.append(args[i])\n",
    "        else:\n",
    "            p2.append(args[i])\n",
    "\n",
    "\n",
    "def get_sum() -> tuple[float, float]:\n",
    "    return round(sum(p1), 2), round(sum(p2), 2)\n",
    "\n",
    "\n",
    "def get_average() -> tuple[float, float]:\n",
    "    return round(sum(p1) / len(p1), 2), round(sum(p2) / len(p2), 2)"
   ]
  },
  {
   "cell_type": "code",
   "execution_count": 35,
   "metadata": {},
   "outputs": [
    {
     "name": "stdout",
     "output_type": "stream",
     "text": [
      "(9, 12) (3.0, 4.0)\n",
      "(10, 14) (2.5, 3.5)\n"
     ]
    }
   ],
   "source": [
    "enter_results(1, 2, 3, 4, 5, 6)\n",
    "print(get_sum(), get_average())\n",
    "enter_results(1, 2)\n",
    "print(get_sum(), get_average())"
   ]
  },
  {
   "cell_type": "code",
   "execution_count": 39,
   "metadata": {},
   "outputs": [
    {
     "name": "stdout",
     "output_type": "stream",
     "text": [
      "(48.7, 40.13) (24.35, 20.07)\n",
      "(53.9, 47.43) (17.97, 15.81)\n",
      "(58.27, 54.7) (9.71, 9.12)\n"
     ]
    }
   ],
   "source": [
    "enter_results(3.5, 2.14, 45.2, 37.99)\n",
    "print(get_sum(), get_average())\n",
    "enter_results(5.2, 7.3)\n",
    "print(get_sum(), get_average())\n",
    "enter_results(1.23, 4.56, 3.14, 2.71, 0, 0)\n",
    "print(get_sum(), get_average())"
   ]
  },
  {
   "cell_type": "markdown",
   "metadata": {},
   "source": [
    "# Длинная сортировка\n",
    "\n",
    "Напишите `lambda` выражение для сортировки списка слов сначала по длине, а затем по алфавиту без учёта регистра.\n",
    "\n",
    "## Примечание\n",
    "\n",
    "В решении не должно быть ничего, кроме выражения.\n",
    "\n",
    "### Пример 1\n",
    "\n",
    "| Ввод | Вывод |\n",
    "| ---- | ----- |\n",
    "| `string = 'мама мыла раму'`<br>`print(sorted(string.split(), key=<ваше выражение>))` | `['мама', 'мыла', 'раму']` |\n",
    "\n",
    "### Пример 2\n",
    "\n",
    "| Ввод | Вывод |\n",
    "| ---- | ----- |\n",
    "| `string = 'Яндекс использует Python во многих проектах'`<br>`print(sorted(string.split(), key=<ваше выражение>))` | `['во', 'Python', 'многих', 'Яндекс', 'проектах', 'использует']` |"
   ]
  },
  {
   "cell_type": "code",
   "execution_count": 44,
   "metadata": {},
   "outputs": [],
   "source": [
    "key = lambda word: (len(word), word.lower())"
   ]
  },
  {
   "cell_type": "code",
   "execution_count": 43,
   "metadata": {},
   "outputs": [
    {
     "name": "stdout",
     "output_type": "stream",
     "text": [
      "['мама', 'мыла', 'раму']\n"
     ]
    }
   ],
   "source": [
    "string = 'мама мыла раму'\n",
    "print(sorted(string.split(), key=key))"
   ]
  },
  {
   "cell_type": "code",
   "execution_count": 45,
   "metadata": {},
   "outputs": [
    {
     "name": "stdout",
     "output_type": "stream",
     "text": [
      "['во', 'Python', 'многих', 'Яндекс', 'проектах', 'использует']\n"
     ]
    }
   ],
   "source": [
    "string = 'Яндекс использует Python во многих проектах'\n",
    "print(sorted(string.split(), key=key))"
   ]
  },
  {
   "cell_type": "markdown",
   "metadata": {},
   "source": [
    "# Чётная фильтрация\n",
    "\n",
    "Напишите `lambda` выражение для фильтрации чисел с чётной суммой цифр.\n",
    "\n",
    "## Примечание\n",
    "\n",
    "В решении не должно быть ничего, кроме выражения.\n",
    "\n",
    "### Пример 1\n",
    "\n",
    "| Ввод | Вывод |\n",
    "| ---- | ----- |\n",
    "| `print(*filter(<ваше выражение>, (1, 2, 3, 4, 5)))` | `2 4` |\n",
    "\n",
    "### Пример 2\n",
    "\n",
    "| Ввод | Вывод |\n",
    "| ---- | ----- |\n",
    "| `print(*filter(<ваше выражение>, (32, 64, 128, 256, 512)))` | `64 512` |"
   ]
  },
  {
   "cell_type": "code",
   "execution_count": 46,
   "metadata": {},
   "outputs": [],
   "source": [
    "func = lambda number: sum(map(int, str(number))) % 2 == 0"
   ]
  },
  {
   "cell_type": "code",
   "execution_count": 47,
   "metadata": {},
   "outputs": [
    {
     "name": "stdout",
     "output_type": "stream",
     "text": [
      "2 4\n"
     ]
    }
   ],
   "source": [
    "print(*filter(func, (1, 2, 3, 4, 5)))"
   ]
  },
  {
   "cell_type": "code",
   "execution_count": 48,
   "metadata": {},
   "outputs": [
    {
     "name": "stdout",
     "output_type": "stream",
     "text": [
      "64 512\n"
     ]
    }
   ],
   "source": [
    "print(*filter(func, (32, 64, 128, 256, 512)))"
   ]
  },
  {
   "cell_type": "markdown",
   "metadata": {},
   "source": [
    "# Ключевой секрет\n",
    "\n",
    "Вася любит секреты и шифрование. Он часто пользуется шифром на основе замен и просит разработать вас функцию, которая позволит ему быстро шифровать сообщения.\n",
    "\n",
    "Напишите функцию `secret_replace`, которая принимает:\n",
    "\n",
    "- текст требующий шифрования;\n",
    "- именованные аргументы — правила замен, представляющие собой кортежи из одного или нескольких значений.\n",
    "\n",
    "Функция должна вернуть зашифрованный текст.\n",
    "\n",
    "## Примечание\n",
    "\n",
    "Ваше решение должно содержать только функции.\n",
    "\n",
    "В решении не должно быть вызовов требуемых функций.\n",
    "\n",
    "### Пример 1\n",
    "\n",
    "| Ввод | Вывод |\n",
    "| ---- | ----- |\n",
    "| `result = secret_replace(\"Hello, world!\", l=(\"hi\", \"y\"), o=(\"123\", \"z\"))` | `result = 'Hehiy123, wzrhid!'` | \n",
    "\n",
    "### Пример 2\n",
    "\n",
    "| Ввод | Вывод |\n",
    "| ---- | ----- |\n",
    "| `result = secret_replace(`<br>&nbsp;&nbsp;&nbsp;&nbsp;`\"ABRA-KADABRA\",`<br>&nbsp;&nbsp;&nbsp;&nbsp;`A=(\"Z\", \"1\", \"!\"),`<br>&nbsp;&nbsp;&nbsp;&nbsp;`B=(\"3\",),`<br>&nbsp;&nbsp;&nbsp;&nbsp;`R=(\"X\", \"7\"),`<br>&nbsp;&nbsp;&nbsp;&nbsp;`K=(\"G\", \"H\"),`<br>&nbsp;&nbsp;&nbsp;&nbsp;`D=(\"0\", \"2\"),`<br>`)` | `result = 'Z3X1-G!0Z371'` |\n"
   ]
  },
  {
   "cell_type": "code",
   "execution_count": 58,
   "metadata": {},
   "outputs": [],
   "source": [
    "def secret_replace(text: str, **kwargs: tuple[str, ...]) -> str:\n",
    "    return ''.join(kwargs[char][text[:i].count(char) % len(kwargs[char])]\n",
    "                   if char in kwargs else char for i, char in enumerate(text))"
   ]
  },
  {
   "cell_type": "code",
   "execution_count": 59,
   "metadata": {},
   "outputs": [
    {
     "data": {
      "text/plain": [
       "'Hehiy123, wzrhid!'"
      ]
     },
     "execution_count": 59,
     "metadata": {},
     "output_type": "execute_result"
    }
   ],
   "source": [
    "secret_replace(\"Hello, world!\", l=(\"hi\", \"y\"), o=(\"123\", \"z\"))"
   ]
  },
  {
   "cell_type": "code",
   "execution_count": 60,
   "metadata": {},
   "outputs": [
    {
     "data": {
      "text/plain": [
       "'Z3X1-G!0Z371'"
      ]
     },
     "execution_count": 60,
     "metadata": {},
     "output_type": "execute_result"
    }
   ],
   "source": [
    "secret_replace(\n",
    "    \"ABRA-KADABRA\",\n",
    "    A=(\"Z\", \"1\", \"!\"),\n",
    "    B=(\"3\",),\n",
    "    R=(\"X\", \"7\"),\n",
    "    K=(\"G\", \"H\"),\n",
    "    D=(\"0\", \"2\"),\n",
    ")"
   ]
  }
 ],
 "metadata": {
  "kernelspec": {
   "display_name": "Python 3",
   "language": "python",
   "name": "python3"
  },
  "language_info": {
   "codemirror_mode": {
    "name": "ipython",
    "version": 3
   },
   "file_extension": ".py",
   "mimetype": "text/x-python",
   "name": "python",
   "nbconvert_exporter": "python",
   "pygments_lexer": "ipython3",
   "version": "3.11.5"
  }
 },
 "nbformat": 4,
 "nbformat_minor": 2
}
