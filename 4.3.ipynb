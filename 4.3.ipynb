{
 "cells": [
  {
   "cell_type": "markdown",
   "metadata": {},
   "source": [
    "# Рекурсивный сумматор\n",
    "\n",
    "Большинство задач этой главы ориентировано на отработку навыков по разработке рекурсивных функций.\n",
    "\n",
    "Ваше решение будет использоваться как библиотека.\n",
    "\n",
    "Напишите функцию `recursive_sum`, которая находит сумму всех позиционных аргументов.\n",
    "\n",
    "## Примечание\n",
    "\n",
    "Ваше решение должно содержать только функции.\n",
    "\n",
    "В решении не должно быть вызовов требуемых функций, за исключением рекурсивных.\n",
    "\n",
    "Трассировка вызова рекурсивной функции в обработке ответа не учитывается и показана для примера.\n",
    "\n",
    "### Пример 1\n",
    "\n",
    "| Ввод | Вывод |\n",
    "| ---- | ----- |\n",
    "| `result = recursive_sum(1, 2, 3)` | `# Вызов recursive_sum(1, 2, 3)`<br>`# Вызов recursive_sum(1, 2)`<br>`# Вызов recursive_sum(1)`<br>`# Вызов recursive_sum()`<br>`result = 6` |\n",
    "\n",
    "### Пример 2\n",
    "\n",
    "| Ввод | Вывод |\n",
    "| ---- | ----- |\n",
    "| `result = recursive_sum(7, 1, 3, 2, 10)` | `# Вызов recursive_sum(7, 1, 3, 2, 10)`<br>`# Вызов recursive_sum(7, 1, 3, 2)`<br>`# Вызов recursive_sum(7, 1, 3)`<br>`# Вызов recursive_sum(7, 1)`<br>`# Вызов recursive_sum(7)`<br>`# Вызов recursive_sum()`<br>`result = 23` |\n"
   ]
  },
  {
   "cell_type": "code",
   "execution_count": 4,
   "metadata": {},
   "outputs": [],
   "source": [
    "def recursive_sum(*args: int) -> int:\n",
    "    if len(args) == 0:\n",
    "        return 0\n",
    "    return recursive_sum(*args[:-1]) + args[-1]"
   ]
  },
  {
   "cell_type": "code",
   "execution_count": 5,
   "metadata": {},
   "outputs": [
    {
     "data": {
      "text/plain": [
       "6"
      ]
     },
     "execution_count": 5,
     "metadata": {},
     "output_type": "execute_result"
    }
   ],
   "source": [
    "recursive_sum(1, 2, 3)"
   ]
  },
  {
   "cell_type": "code",
   "execution_count": 6,
   "metadata": {},
   "outputs": [
    {
     "data": {
      "text/plain": [
       "23"
      ]
     },
     "execution_count": 6,
     "metadata": {},
     "output_type": "execute_result"
    }
   ],
   "source": [
    "recursive_sum(7, 1, 3, 2, 10)"
   ]
  },
  {
   "cell_type": "markdown",
   "metadata": {},
   "source": [
    "# Рекурсивный сумматор цифр\n",
    "\n",
    "Рекурсия – отличный способ избавиться от циклов, особенно от `while`. Давайте вспомним одну из наших старых задач и модернизируем её.\n",
    "\n",
    "Напишите функцию `recursive_digit_sum`, которая находит сумму всех цифр натурального числа.\n",
    "\n",
    "## Примечание\n",
    "\n",
    "Ваше решение должно содержать только функции.\n",
    "\n",
    "В решении не должно быть вызовов требуемых функций, за исключением рекурсивных.\n",
    "\n",
    "Трассировка вызова рекурсивной функции в обработке ответа не учитывается и показана для примера.\n",
    "\n",
    "### Пример 1\n",
    "\n",
    "| Ввод | Вывод |\n",
    "| ---- | ----- |\n",
    "| `result = recursive_digit_sum(123)` | `# Вызов recursive_digit_sum(123)`<br>`# Вызов recursive_digit_sum(12)`<br>`# Вызов recursive_digit_sum(1)`<br>`# Вызов recursive_digit_sum(0)`<br>`result = 6` |\n",
    "\n",
    "### Пример 2\n",
    "\n",
    "| Ввод | Вывод |\n",
    "| ---- | ----- |\n",
    "| `result = recursive_digit_sum(7321346)` | `# Вызов recursive_digit_sum(7321346)`<br>`# Вызов recursive_digit_sum(732134)`<br>`# Вызов recursive_digit_sum(73213)`<br>`# Вызов recursive_digit_sum(7321)`<br>`# Вызов recursive_digit_sum(732)`<br>`# Вызов recursive_digit_sum(73)`<br>`# Вызов recursive_digit_sum(7)`<br>`# Вызов recursive_digit_sum(0)`<br>`result = 26` |"
   ]
  },
  {
   "cell_type": "code",
   "execution_count": 10,
   "metadata": {},
   "outputs": [],
   "source": [
    "def recursive_digit_sum(n: int) -> int:\n",
    "    if n == 0:\n",
    "        return 0\n",
    "    return recursive_digit_sum(n // 10) + n % 10"
   ]
  },
  {
   "cell_type": "code",
   "execution_count": 13,
   "metadata": {},
   "outputs": [
    {
     "data": {
      "text/plain": [
       "6"
      ]
     },
     "execution_count": 13,
     "metadata": {},
     "output_type": "execute_result"
    }
   ],
   "source": [
    "recursive_digit_sum(123)"
   ]
  },
  {
   "cell_type": "code",
   "execution_count": 12,
   "metadata": {},
   "outputs": [
    {
     "data": {
      "text/plain": [
       "26"
      ]
     },
     "execution_count": 12,
     "metadata": {},
     "output_type": "execute_result"
    }
   ],
   "source": [
    "recursive_digit_sum(7321346)"
   ]
  },
  {
   "cell_type": "markdown",
   "metadata": {},
   "source": [
    "# Многочлен N-ой степени\n",
    "\n",
    "Напишите функцию `make_equation`, которая по заданным коэффициентам строит строку, описывающую валидное с точки зрения _Python_ выражение без использования оператора возведения в степень.\n",
    "\n",
    "Многочлен второй степени с коэффициентами _a_, _b_ и _c_, например, можно записать в виде: \n",
    "\n",
    "$$((a) * x + b) * x + c$$\n",
    "\n",
    "## Примечание\n",
    "\n",
    "Ваше решение должно содержать только функции.\n",
    "\n",
    "В решении не должно быть вызовов требуемых функций, за исключением рекурсивных.\n",
    "\n",
    "Трассировка вызова рекурсивной функции в обработке ответа не учитывается и показана для примера.\n",
    "\n",
    "### Пример 1\n",
    "\n",
    "| Ввод | Вывод |\n",
    "| ---- | ----- |\n",
    "| `result = make_equation(3, 2, 1)` | `# Вызов make_equation(3, 2, 1)`<br>`# Вызов make_equation(3, 2)`<br>`# Вызов make_equation(3)`<br>`result = '((3) * x + 2) * x + 1'` |\n",
    "\n",
    "### Привер 2\n",
    "\n",
    "| Ввод | Вывод |\n",
    "| ---- | ----- |\n",
    "| `result = make_equation(3, 1, 5, 3)` | `# Вызов make_equation(3, 1, 5, 3)`<br>`# Вызов make_equation(3, 1, 5)`<br>`# Вызов make_equation(3, 1)`<br>`# Вызов make_equation(3)`<br>`result = '(((3) * x + 1) * x + 5) * x + 3'` |"
   ]
  },
  {
   "cell_type": "code",
   "execution_count": 18,
   "metadata": {},
   "outputs": [],
   "source": [
    "def make_equation(*args: int) -> str:\n",
    "    if len(args) == 1:\n",
    "        return f\"{args[0]}\"\n",
    "    return f\"({make_equation(*args[:-1])}) * x + {args[-1]}\""
   ]
  },
  {
   "cell_type": "code",
   "execution_count": 20,
   "metadata": {},
   "outputs": [
    {
     "data": {
      "text/plain": [
       "'((3) * x + 2) * x + 1'"
      ]
     },
     "execution_count": 20,
     "metadata": {},
     "output_type": "execute_result"
    }
   ],
   "source": [
    "make_equation(3, 2, 1)"
   ]
  },
  {
   "cell_type": "code",
   "execution_count": null,
   "metadata": {},
   "outputs": [],
   "source": [
    "make_equation(3, 1, 5, 3)"
   ]
  },
  {
   "cell_type": "markdown",
   "metadata": {},
   "source": [
    "# Декор результата\n",
    "\n",
    "Напишите декоратор `answer`, который преобразует функцию, принимающую неограниченное число позиционных и именованных параметров и возвращает её результат с припиской \"Результат функции: <значение>\".\n",
    "\n",
    "## Примечание\n",
    "\n",
    "Ваше решение должно содержать только функции.\n",
    "\n",
    "В решении не должно быть вызовов требуемых функций.\n",
    "\n",
    "### Пример 1\n",
    "\n",
    "| Ввод | Вывод |\n",
    "| ---- | ----- |\n",
    "| `@answer`<br>`def a_plus_b(a, b):`<br>&nbsp;&nbsp;&nbsp;&nbsp;`return a + b`<br><br><br>`print(a_plus_b(3, 5))`<br>`print(a_plus_b(7, 9))` | `Результат функции: 8`<br>`Результат функции: 16` |\n",
    "\n",
    "### Пример 2\n",
    "\n",
    "| Ввод | Вывод |\n",
    "| ---- | ----- |\n",
    "| `@answer`<br>`def get_letters(text: str) -> str:`<br>&nbsp;&nbsp;&nbsp;&nbsp;`return ''.join(sorted(set(filter(str.isalpha, text.lower()))))`<br><br><br>`print(get_letters('Hello, world!'))`<br>`print(get_letters('Декораторы это круто =)'))` | `Результат функции: dehlorw`<br>`Результат функции: адекортуыэ` |"
   ]
  },
  {
   "cell_type": "code",
   "execution_count": 21,
   "metadata": {},
   "outputs": [],
   "source": [
    "def answer(func):\n",
    "    def decorator(*args, **kwargs):\n",
    "        return f\"Результат функции: {func(*args, **kwargs)}\"\n",
    "    return decorator"
   ]
  },
  {
   "cell_type": "code",
   "execution_count": 22,
   "metadata": {},
   "outputs": [
    {
     "name": "stdout",
     "output_type": "stream",
     "text": [
      "Результат функции: 8\n",
      "Результат функции: 16\n"
     ]
    }
   ],
   "source": [
    "@answer\n",
    "def a_plus_b(a, b):\n",
    "    return a + b\n",
    "\n",
    "\n",
    "print(a_plus_b(3, 5))\n",
    "print(a_plus_b(7, 9))"
   ]
  },
  {
   "cell_type": "code",
   "execution_count": 23,
   "metadata": {},
   "outputs": [
    {
     "name": "stdout",
     "output_type": "stream",
     "text": [
      "Результат функции: dehlorw\n",
      "Результат функции: адекортуыэ\n"
     ]
    }
   ],
   "source": [
    "@answer\n",
    "def get_letters(text: str) -> str:\n",
    "    return ''.join(sorted(set(filter(str.isalpha, text.lower()))))\n",
    "\n",
    "\n",
    "print(get_letters('Hello, world!'))\n",
    "print(get_letters('Декораторы это круто =)'))"
   ]
  },
  {
   "cell_type": "markdown",
   "metadata": {},
   "source": [
    "# Накопление результата\n",
    "\n",
    "В некоторых случаях полезно накапливать результат, а затем получать его единым списком.\n",
    "\n",
    "Реализуйте декоратор `result_accumulator`, который модернизирует функцию с неопределенным количеством позиционных параметров следующим образом:\n",
    "\n",
    "- Добавляет именованный параметр `method` со значением по умолчанию _accumulate_;\n",
    "- При вызове функции с параметром `method` равным _accumulate_, результат сохраняется в очередь (для каждой функции в собственную), а функция ничего не возвращает;\n",
    "- При вызове функции с параметром `method` равным _drop_, возвращается все накопленные результаты, а очередь сбрасывается.\n",
    "\n",
    "## Примечание\n",
    "\n",
    "Ваше решение должно содержать только функции.\n",
    "\n",
    "В решении не должно быть вызовов требуемых функций.\n",
    "\n",
    "### Пример 1\n",
    "\n",
    "| Ввод | Вывод |\n",
    "| ---- | ----- |\n",
    "| `@result_accumulator`<br>`def a_plus_b(a, b):`<br>&nbsp;&nbsp;&nbsp;&nbsp;`return a + b`<br><br><br>`print(a_plus_b(3, 5, method=\"accumulate\"))`<br>`print(a_plus_b(7, 9))`<br>`print(a_plus_b(-3, 5, method=\"drop\"))`<br>`print(a_plus_b(1, -7))`<br>`print(a_plus_b(10, 35, method=\"drop\"))` | `None`<br>`None`<br>`[8, 16, 2]`<br>`None`<br>`[-6, 45] ` |\n",
    "\n",
    "### Пример 2\n",
    "\n",
    "| Ввод | Вывод |\n",
    "| ---- | ----- |\n",
    "| `@result_accumulator`<br>`def get_letters(text: str) -> str:`<br>&nbsp;&nbsp;&nbsp;&nbsp;`return ''.join(sorted(set(filter(str.isalpha, text.lower()))))`<br><br><br>`print(get_letters('Hello, world!'))`<br>`print(get_letters('Декораторы это круто =)'))`<br>`print(get_letters('Ехали медведи на велосипеде', method='drop'))` | `None`<br>`None`<br>`['dehlorw', 'адекортуыэ', 'авдеилмнопсх']` |"
   ]
  },
  {
   "cell_type": "code",
   "execution_count": 34,
   "metadata": {},
   "outputs": [],
   "source": [
    "from functools import wraps\n",
    "\n",
    "\n",
    "def result_accumulator(func):\n",
    "    queue = []\n",
    "\n",
    "    @wraps(func)\n",
    "    def decorator(*args, method=\"accumulate\", **kwargs):\n",
    "        nonlocal queue\n",
    "        result = func(*args, **kwargs)\n",
    "        if method == \"accumulate\":\n",
    "            queue.append(result)\n",
    "        elif method == \"drop\":\n",
    "            new_queue = queue + [result]\n",
    "            queue.clear()\n",
    "            return new_queue\n",
    "        \n",
    "    return decorator"
   ]
  },
  {
   "cell_type": "code",
   "execution_count": 35,
   "metadata": {},
   "outputs": [
    {
     "name": "stdout",
     "output_type": "stream",
     "text": [
      "None\n",
      "None\n",
      "[8, 16, 2]\n",
      "None\n",
      "[-6, 45]\n"
     ]
    }
   ],
   "source": [
    "@result_accumulator\n",
    "def a_plus_b(a, b):\n",
    "    return a + b\n",
    "\n",
    "\n",
    "print(a_plus_b(3, 5, method=\"accumulate\"))\n",
    "print(a_plus_b(7, 9))\n",
    "print(a_plus_b(-3, 5, method=\"drop\"))\n",
    "print(a_plus_b(1, -7))\n",
    "print(a_plus_b(10, 35, method=\"drop\"))"
   ]
  },
  {
   "cell_type": "code",
   "execution_count": 36,
   "metadata": {},
   "outputs": [
    {
     "name": "stdout",
     "output_type": "stream",
     "text": [
      "None\n",
      "None\n",
      "['dehlorw', 'адекортуыэ', 'авдеилмнопсх']\n"
     ]
    }
   ],
   "source": [
    "@result_accumulator\n",
    "def get_letters(text: str) -> str:\n",
    "    return ''.join(sorted(set(filter(str.isalpha, text.lower()))))\n",
    "\n",
    "\n",
    "print(get_letters('Hello, world!'))\n",
    "print(get_letters('Декораторы это круто =)'))\n",
    "print(get_letters('Ехали медведи на велосипеде', method='drop'))"
   ]
  },
  {
   "cell_type": "markdown",
   "metadata": {},
   "source": [
    "# Сортировка слиянием\n",
    "\n",
    "Мы уже реализовывали функцию merge, которая способна \"слить\" два отсортированных списка в один.\n",
    "Чаще всего её применяют в рекурсивном алгоритме сортировки слиянием.\n",
    "\n",
    "Напишите рекурсивную функцию `merge_sort`, которая производит сортировку списка.\n",
    "\n",
    "## Примечание\n",
    "\n",
    "Ваше решение должно содержать только функции.\n",
    "\n",
    "В решении не должно быть вызовов требуемых функций, за исключением рекурсивных.\n",
    "\n",
    "Трассировка вызова рекурсивной функции в обработке ответа не учитывается и показана для примера.\n",
    "\n",
    "### Пример 1\n",
    "\n",
    "| Ввод | Вывод |\n",
    "| ---- | ----- |\n",
    "| `result = merge_sort([3, 2, 1])` | `# Вызов merge_sort([3, 2, 1])`<br>`# Вызов merge_sort([3])`<br>`# Вызов merge_sort([2, 1])`<br>`# Вызов merge_sort([2])`<br>`# Вызов merge_sort([1])`<br>`result = [1, 2, 3]` |\n",
    "\n",
    "### Пример 2\n",
    "\n",
    "| Ввод | Вывод |\n",
    "| ---- | ----- |\n",
    "| `result = merge_sort([3, 1, 5, 3])` | `# Вызов merge_sort([3, 1, 5, 3])`<br>`# Вызов merge_sort([3, 1])`<br>`# Вызов merge_sort([3])`<br>`# Вызов merge_sort([1])`<br>`# Вызов merge_sort([5, 3])`<br>`# Вызов merge_sort([5])`<br>`# Вызов merge_sort([3])`<br>`result = [1, 3, 3, 5]` |"
   ]
  },
  {
   "cell_type": "code",
   "execution_count": 1,
   "metadata": {},
   "outputs": [],
   "source": [
    "def merge_sort(numbers: list[int]) -> list[int]:\n",
    "    if len(numbers) == 1:\n",
    "        return numbers\n",
    "\n",
    "    left = merge_sort(numbers[len(numbers) // 2:])\n",
    "    right = merge_sort(numbers[:len(numbers) // 2])\n",
    "\n",
    "    sort = []\n",
    "\n",
    "    i, j = 0, 0\n",
    "    while i < len(left) and j < len(right):\n",
    "        if left[i] < right[j]:\n",
    "            sort.append(left[i])\n",
    "            i += 1\n",
    "        else:\n",
    "            sort.append(right[j])\n",
    "            j += 1\n",
    "\n",
    "    return sort + left[i:] + right[j:]"
   ]
  },
  {
   "cell_type": "code",
   "execution_count": 2,
   "metadata": {},
   "outputs": [
    {
     "data": {
      "text/plain": [
       "[1, 2, 3]"
      ]
     },
     "execution_count": 2,
     "metadata": {},
     "output_type": "execute_result"
    }
   ],
   "source": [
    "merge_sort([3, 2, 1])"
   ]
  },
  {
   "cell_type": "code",
   "execution_count": 66,
   "metadata": {},
   "outputs": [
    {
     "data": {
      "text/plain": [
       "[1, 3, 3, 5]"
      ]
     },
     "execution_count": 66,
     "metadata": {},
     "output_type": "execute_result"
    }
   ],
   "source": [
    "merge_sort([3, 1, 5, 3])"
   ]
  },
  {
   "cell_type": "markdown",
   "metadata": {},
   "source": [
    "# Однотипность не порок\n",
    "\n",
    "Во многих задачах требуется контроль входных данных, в частности, несмотря на динамическую типизацию, их типов.\n",
    "\n",
    "Разработайте декоратор `same_type`, который производит проверку переменного количества позиционных параметров. В случае получения не одинаковых типов выводит сообщение <u>\"Обнаружены различные типы данных\"</u> и прерывает выполнение функции.\n",
    "\n",
    "## Примечание\n",
    "\n",
    "Ваше решение должно содержать только функции.\n",
    "\n",
    "В решении не должно быть вызовов требуемых функций.\n",
    "\n",
    "### Пример 1\n",
    "\n",
    "| Ввод | Вывод |\n",
    "| ---- | ----- |\n",
    "`@same_type`<br>`def a_plus_b(a, b):`<br>&nbsp;&nbsp;&nbsp;&nbsp;`return a + b`<br><br><br>`print(a_plus_b(3, 5.2) or 'Fail')`<br>`print(a_plus_b(7, '9') or 'Fail')`<br>`print(a_plus_b(-3, 5) or 'Fail')` | `Обнаружены различные типы данных`<br>`Fail`<br>`Обнаружены различные типы данных`<br>`Fail`<br>`2` |\n",
    "\n",
    "### Пример 2\n",
    "\n",
    "| Ввод | Вывод |\n",
    "| ---- | ----- |\n",
    "| `@same_type`<br>`def combine_text(*words):`<br>&nbsp;&nbsp;&nbsp;&nbsp;`return ' '.join(words)`<br><br><br>`print(combine_text('Hello,', 'world!') or 'Fail')`<br>`print(combine_text(2, '+', 2, '=', 4) or 'Fail')`<br>`print(combine_text('Список из 30', 0, 'можно получить так', [0] * 30) or 'Fail')` | `Hello, world!`<br>`Обнаружены различные типы данных`<br>`Fail`<br>`Обнаружены различные типы данных`<br>`Fail` |"
   ]
  },
  {
   "cell_type": "code",
   "execution_count": 7,
   "metadata": {},
   "outputs": [],
   "source": [
    "from functools import wraps\n",
    "\n",
    "\n",
    "def same_type(func):\n",
    "\n",
    "    @wraps(func)\n",
    "    def decorated(*args, **kwargs):\n",
    "        if len(set(map(type, args))) > 1:\n",
    "            print(\"Обнаружены различные типы данных\")\n",
    "            return\n",
    "        return func(*args, **kwargs)\n",
    "\n",
    "    return decorated"
   ]
  },
  {
   "cell_type": "code",
   "execution_count": 8,
   "metadata": {},
   "outputs": [
    {
     "name": "stdout",
     "output_type": "stream",
     "text": [
      "Обнаружены различные типы данных\n",
      "Fail\n",
      "Обнаружены различные типы данных\n",
      "Fail\n",
      "2\n"
     ]
    }
   ],
   "source": [
    "@same_type\n",
    "def a_plus_b(a, b):\n",
    "    return a + b\n",
    "\n",
    "\n",
    "print(a_plus_b(3, 5.2) or 'Fail')\n",
    "print(a_plus_b(7, '9') or 'Fail')\n",
    "print(a_plus_b(-3, 5) or 'Fail')"
   ]
  },
  {
   "cell_type": "code",
   "execution_count": 9,
   "metadata": {},
   "outputs": [
    {
     "name": "stdout",
     "output_type": "stream",
     "text": [
      "Hello, world!\n",
      "Обнаружены различные типы данных\n",
      "Fail\n",
      "Обнаружены различные типы данных\n",
      "Fail\n"
     ]
    }
   ],
   "source": [
    "@same_type\n",
    "def combine_text(*words):\n",
    "    return ' '.join(words)\n",
    "\n",
    "\n",
    "print(combine_text('Hello,', 'world!') or 'Fail')\n",
    "print(combine_text(2, '+', 2, '=', 4) or 'Fail')\n",
    "print(combine_text('Список из 30', 0, 'можно получить так', [0] * 30) or 'Fail')\n"
   ]
  },
  {
   "cell_type": "markdown",
   "metadata": {},
   "source": [
    "# Генератор Фибоначчи\n",
    "\n",
    "Числа Фибоначчи весьма интересная последовательность и используется в различных математических задачах. В ней каждый следующий элемент равен сумме двух предыдущих. Математики начинают эту последовательность с двух единиц, но мы же с вами программисты, поэтому привыкли вести счет с нуля.\n",
    "\n",
    "Напишите генератор `fibonacci`, который последовательно возвращает заданное количество чисел Фибоначчи по \"правилам программистов\".\n",
    "\n",
    "## Примечание\n",
    "\n",
    "Ваше решение должно содержать только функции.\n",
    "\n",
    "В решении не должно быть вызовов требуемых функций.\n",
    "\n",
    "### Пример 1\n",
    "\n",
    "| Ввод | Вывод |\n",
    "| ---- | ----- |\n",
    "| `print(*fibonacci(5))` | `0 1 1 2 3` |\n",
    "\n",
    "### Пример 2\n",
    "\n",
    "| Ввод | Вывод |\n",
    "| ---- | ----- |\n",
    "| `print(*fibonacci(10), sep=', ')` | `0, 1, 1, 2, 3, 5, 8, 13, 21, 34` |"
   ]
  },
  {
   "cell_type": "code",
   "execution_count": 16,
   "metadata": {},
   "outputs": [],
   "source": [
    "def fibonacci(n: int):\n",
    "    prev_1, prev_2 = 0, 1\n",
    "    for _ in range(n):\n",
    "        yield prev_1\n",
    "        prev_1, prev_2 = prev_2, prev_1 + prev_2"
   ]
  },
  {
   "cell_type": "code",
   "execution_count": 17,
   "metadata": {},
   "outputs": [
    {
     "name": "stdout",
     "output_type": "stream",
     "text": [
      "0 1 1 2 3\n"
     ]
    }
   ],
   "source": [
    "print(*fibonacci(5))"
   ]
  },
  {
   "cell_type": "markdown",
   "metadata": {},
   "source": [
    "# Циклический генератор\n",
    "\n",
    "Напишите генератор `cycle`, который принимает список и работает аналогично итератору `itertools.cycle`.\n",
    "\n",
    "## Примечание\n",
    "\n",
    "Ваше решение должно содержать только функции.\n",
    "\n",
    "В решении не должно быть вызовов требуемых функций.\n",
    "\n",
    "### Пример 1\n",
    "\n",
    "| Ввод | Вывод |\n",
    "| ---- | ----- |\n",
    "| `print(*(x for _, x in zip(range(5), cycle([1, 2, 3]))))` | `1 2 3 1 2` |\n",
    "\n",
    "### Пример 2\n",
    "\n",
    "| Ввод | Вывод |\n",
    "| ---- | ----- |\n",
    "| `print(*(x for _, x in zip(range(15), cycle([1, 2, 3, 4]))))` | `1 2 3 4 1 2 3 4 1 2 3 4 1 2 3` |"
   ]
  },
  {
   "cell_type": "code",
   "execution_count": 18,
   "metadata": {},
   "outputs": [],
   "source": [
    "def cycle(items: list):\n",
    "    n = 0\n",
    "    while True:\n",
    "        yield items[n % len(items)]\n",
    "        n += 1\n",
    "    "
   ]
  },
  {
   "cell_type": "code",
   "execution_count": 19,
   "metadata": {},
   "outputs": [
    {
     "name": "stdout",
     "output_type": "stream",
     "text": [
      "1 2 3 1 2\n"
     ]
    }
   ],
   "source": [
    "print(*(x for _, x in zip(range(5), cycle([1, 2, 3]))))"
   ]
  },
  {
   "cell_type": "code",
   "execution_count": 20,
   "metadata": {},
   "outputs": [
    {
     "name": "stdout",
     "output_type": "stream",
     "text": [
      "1 2 3 4 1 2 3 4 1 2 3 4 1 2 3\n"
     ]
    }
   ],
   "source": [
    "print(*(x for _, x in zip(range(15), cycle([1, 2, 3, 4]))))"
   ]
  },
  {
   "cell_type": "markdown",
   "metadata": {},
   "source": [
    "# \"Выпрямление\" списка\n",
    "\n",
    "Весьма часто, данные, которые мы получаем из различных источников, не удовлетворяют нашим пожеланиям. Одна из частых проблем – излишняя вложенность списков.\n",
    "\n",
    "Напишите функцию `make_linear`, которая принимает список списков и возвращает его \"выпрямленное\" представление.\n",
    "\n",
    "## Примечание\n",
    "\n",
    "Ваше решение должно содержать только функции.\n",
    "\n",
    "В решении не должно быть вызовов требуемых функций, за исключением рекурсивных.\n",
    "\n",
    "Трассировка вызова рекурсивной функции в обработке ответа не учитывается и показана для примера.\n",
    "\n",
    "### Пример 1\n",
    "\n",
    "| Ввод | Вывод |\n",
    "| ---- | ----- |\n",
    "| `result = make_linear([1, 2, [3]])` | `# Вызов make_linear([1, 2, [3]])`<br>`# Вызов make_linear([3])`<br>`result = [1, 2, 3]` |\n",
    "\n",
    "### Пример 1\n",
    "\n",
    "| Ввод | Вывод |\n",
    "| ---- | ----- |\n",
    "| `result = make_linear([1, [2, [3, 4]], 5, 6])` | `# Вызов make_linear([1, [2, [3, 4]], 5, 6])`<br>`# Вызов make_linear([2, [3, 4]])`<br>`# Вызов make_linear([3, 4])`<br>`result = [1, 2, 3, 4, 5, 6]` |"
   ]
  },
  {
   "cell_type": "code",
   "execution_count": 45,
   "metadata": {},
   "outputs": [],
   "source": [
    "def make_linear(items: list) -> list:\n",
    "    return [sub for item in items for sub in (make_linear(item) if isinstance(item, list) else [item])]"
   ]
  },
  {
   "cell_type": "code",
   "execution_count": 46,
   "metadata": {},
   "outputs": [
    {
     "data": {
      "text/plain": [
       "[1, 2, 3]"
      ]
     },
     "execution_count": 46,
     "metadata": {},
     "output_type": "execute_result"
    }
   ],
   "source": [
    "make_linear([1, 2, [3]])"
   ]
  },
  {
   "cell_type": "code",
   "execution_count": 47,
   "metadata": {},
   "outputs": [
    {
     "data": {
      "text/plain": [
       "[1, 2, 3, 4, 5, 6]"
      ]
     },
     "execution_count": 47,
     "metadata": {},
     "output_type": "execute_result"
    }
   ],
   "source": [
    "make_linear([1, [2, [3, 4]], 5, 6])"
   ]
  }
 ],
 "metadata": {
  "kernelspec": {
   "display_name": "Python 3",
   "language": "python",
   "name": "python3"
  },
  "language_info": {
   "codemirror_mode": {
    "name": "ipython",
    "version": 3
   },
   "file_extension": ".py",
   "mimetype": "text/x-python",
   "name": "python",
   "nbconvert_exporter": "python",
   "pygments_lexer": "ipython3",
   "version": "3.11.5"
  }
 },
 "nbformat": 4,
 "nbformat_minor": 2
}
