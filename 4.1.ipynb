{
 "cells": [
  {
   "cell_type": "markdown",
   "metadata": {},
   "source": [
    "# Функциональное приветствие\n",
    "\n",
    "Большинство задач этой главы ориентировано на отработку навыков по разработке функций.\n",
    "\n",
    "Ваше решение будет использоваться как библиотека.\n",
    "\n",
    "Напишите функцию `print_hello`, которая принимает имя пользователя и выводит приветствие в стандартный поток вывода.\n",
    "\n",
    "## Примечание\n",
    "\n",
    "Ваше решение должно содержать только функции.\n",
    "В решении не должно быть вызовов требуемых функций.\n",
    "\n",
    "### Пример 1\n",
    "\n",
    "| Ввод | Вывод |\n",
    "| ---- | ----- |\n",
    "| `name = \"world\"`<br>`print_hello(name)` | `Hello, world!` |     \n",
    "\n",
    "### Пример 2\n",
    "\n",
    "| Ввод | Вывод |\n",
    "| -----| ----- |\n",
    "| `string = \"Yandex\"`<br>`print_hello(string)` | `Hello, Yandex` |"
   ]
  },
  {
   "cell_type": "code",
   "execution_count": 6,
   "metadata": {},
   "outputs": [],
   "source": [
    "def print_hello(name: str):\n",
    "    print(f\"Hello, {name}!\")"
   ]
  },
  {
   "cell_type": "code",
   "execution_count": 7,
   "metadata": {},
   "outputs": [
    {
     "name": "stdout",
     "output_type": "stream",
     "text": [
      "Hello, world!\n",
      "Hello, Yandex!\n"
     ]
    }
   ],
   "source": [
    "print_hello(\"world\")\n",
    "print_hello(\"Yandex\")"
   ]
  },
  {
   "cell_type": "markdown",
   "metadata": {},
   "source": [
    "# Функциональный НОД\n",
    "\n",
    "Напишите функцию `gcd`, которая принимает два натуральных числа и возвращает их наибольший общий делитель.\n",
    "\n",
    "## Примечание\n",
    "\n",
    "Ваше решение должно содержать только функции.\n",
    "В решении не должно быть вызовов требуемых функций.\n",
    "\n",
    "### Пример 1\n",
    "\n",
    "| Ввод | Вывод |\n",
    "| ---- | ----- |\n",
    "| `result = gcd(12, 45)` | `result = 3` |\n",
    "\n",
    "### Пример 2\n",
    "\n",
    "| Ввод | Вывод |\n",
    "| ---- | ----- |\n",
    "| `result = gcd(144, 96)` | `result = 48` |\n"
   ]
  },
  {
   "cell_type": "code",
   "execution_count": 8,
   "metadata": {},
   "outputs": [],
   "source": [
    "def gcd(a: int, b: int) -> int:\n",
    "    while a != b:\n",
    "        if a > b:\n",
    "            a -= b\n",
    "        else:\n",
    "            b -= a\n",
    "    return a"
   ]
  },
  {
   "cell_type": "code",
   "execution_count": 10,
   "metadata": {},
   "outputs": [
    {
     "name": "stdout",
     "output_type": "stream",
     "text": [
      "3\n",
      "48\n"
     ]
    }
   ],
   "source": [
    "print(gcd(12, 45))\n",
    "print(gcd(144, 96))"
   ]
  },
  {
   "cell_type": "markdown",
   "metadata": {},
   "source": [
    "# Длина числа\n",
    "\n",
    "Разработайте функцию `number_length`, которая принимает одно целое число и возвращает его длину без учёта знака.\n",
    "\n",
    "## Примечание\n",
    "\n",
    "Ваше решение должно содержать только функции.\n",
    "В решении не должно быть вызовов требуемых функций.\n",
    "\n",
    "### Пример 1\n",
    "\n",
    "| Ввод | Вывод |\n",
    "| ---- | ----- |\n",
    "| `result = number_length(12345)` | `result = 5` |\n",
    "\n",
    "### Пример 2\n",
    "\n",
    "| Ввод | Вывод |\n",
    "| ---- | ----- |\n",
    "| `result = number_length(-100500)` | `result = 6` |"
   ]
  },
  {
   "cell_type": "code",
   "execution_count": 11,
   "metadata": {},
   "outputs": [],
   "source": [
    "def number_length(n: int) -> int:\n",
    "    return len(str(abs(n)))"
   ]
  },
  {
   "cell_type": "code",
   "execution_count": 12,
   "metadata": {},
   "outputs": [
    {
     "name": "stdout",
     "output_type": "stream",
     "text": [
      "5\n",
      "6\n"
     ]
    }
   ],
   "source": [
    "print(number_length(12345))\n",
    "print(number_length(-100500))"
   ]
  },
  {
   "cell_type": "markdown",
   "metadata": {},
   "source": [
    "# Имя of the month\n",
    "\n",
    "Разработайте функцию `month`, которая принимает номер месяца и обозначение языка (\"ru\", \"en\") и возвращает название заданного месяца в заданном языке с заглавной буквы.\n",
    "\n",
    "## Примечание\n",
    "\n",
    "Ваше решение должно содержать только функции.\n",
    "В решении не должно быть вызовов требуемых функций.\n",
    "\n",
    "### Пример 1\n",
    "\n",
    "| Ввод | Вывод |\n",
    "| ---- | ----- |\n",
    "| `result = month(1, \"en\")` | `result = 'January'` |\n",
    "\n",
    "### Пример 2\n",
    "\n",
    "| Ввод | Вывод |\n",
    "| ---- | ----- |\n",
    "| `result = month(7, \"ru\")` | `result = 'Июль'` |"
   ]
  },
  {
   "cell_type": "code",
   "execution_count": 14,
   "metadata": {},
   "outputs": [],
   "source": [
    "def month(month: int, locale: str) -> str:\n",
    "    months = {\n",
    "        'ru': ['Январь', 'Февраль', 'Март', 'Апрель',\n",
    "               'Май', 'Июнь', 'Июль', 'Август',\n",
    "               'Сентябрь', 'Октябрь', 'Ноябрь', 'Декабрь'],\n",
    "        'en': ['January', 'February', 'March', 'April',\n",
    "               'May', 'June', 'July', 'August',\n",
    "               'September', 'October', 'November', 'December']\n",
    "    }\n",
    "    return months[locale][month - 1]"
   ]
  },
  {
   "cell_type": "code",
   "execution_count": 15,
   "metadata": {},
   "outputs": [
    {
     "name": "stdout",
     "output_type": "stream",
     "text": [
      "January\n",
      "Июль\n"
     ]
    }
   ],
   "source": [
    "print(month(1, 'en'))\n",
    "print(month(7, 'ru'))"
   ]
  },
  {
   "cell_type": "markdown",
   "metadata": {},
   "source": [
    "# Числовая строка\n",
    "\n",
    "Разработайте функцию `split_numbers`, которая принимает строку целых чисел, разделённых пробелами, и возвращает кортеж из этих чисел.\n",
    "\n",
    "## Примечание\n",
    "\n",
    "Ваше решение должно содержать только функции.\n",
    "В решении не должно быть вызовов требуемых функций.\n",
    "\n",
    "Вы можете спросить: почему кортеж, а не список. Всё дело в безопасности. Кортежи неизменяемые коллекции и их безопаснее передавать в функцию или из неё.\n",
    "\n",
    "### Пример 1\n",
    "\n",
    "| Ввод | Вывод |\n",
    "| ---- | ----- |\n",
    "| `result = split_numbers(\"1 2 3 4 5\")` | `result = (1, 2, 3, 4, 5)` |\n",
    "\n",
    "### Пример 2\n",
    "\n",
    "| Ввод | Вывод |\n",
    "| ---- | ----- |\n",
    "| `result = split_numbers(\"1 -2 3 -4 5\")` | `result = (1, -2, 3, -4, 5)` |\n"
   ]
  },
  {
   "cell_type": "code",
   "execution_count": 17,
   "metadata": {},
   "outputs": [],
   "source": [
    "def split_numbers(numbers: str) -> tuple[int, ...]:\n",
    "    return tuple(map(int, numbers.split()))"
   ]
  },
  {
   "cell_type": "code",
   "execution_count": 19,
   "metadata": {},
   "outputs": [
    {
     "name": "stdout",
     "output_type": "stream",
     "text": [
      "(1, 2, 3, 4, 5)\n",
      "(1, -2, 3, -4, 5)\n"
     ]
    }
   ],
   "source": [
    "print(split_numbers(\"1 2 3 4 5\"))\n",
    "print(split_numbers(\"1 -2 3 -4 5\"))"
   ]
  },
  {
   "cell_type": "markdown",
   "metadata": {},
   "source": [
    "# Модернизация системы вывода\n",
    "\n",
    "Разработайте функцию `modern_print`, которая принимает строку и выводит её, если она не была выведена ранее.\n",
    "\n",
    "## Примечание\n",
    "\n",
    "В решении не должно быть вызовов требуемых функций.\n",
    "\n",
    "### Пример 1\n",
    "\n",
    "| Ввод | Вывод |\n",
    "| ---- | ----- |\n",
    "| `modern_print(\"Hello!\")`<br>`modern_print(\"Hello!\")`<br>`modern_print(\"How do you do?\")`<br>`modern_print(\"Hello!\")` | `Hello!`<br>`How do you do?` |\n",
    "\n",
    "### Пример 2\n",
    "\n",
    "| Ввод | Вывод |\n",
    "| ---- | ----- |\n",
    "| `modern_print(\"Ало!\")`<br>`modern_print(\"Ало!\")`<br>`modern_print(\"Я тебя не слышу\")`<br>`modern_print(\"Ало!\")`<br>`modern_print(\"Ало!\")`<br>`modern_print(\"Позвони когда сможешь\")`<br>`modern_print(\"Позвони когда сможешь\")`<br>`modern_print(\"Я тебя не слышу\")` | `Ало!`<br>`Я тебя не слышу`<br>`Позвони когда сможешь` |"
   ]
  },
  {
   "cell_type": "code",
   "execution_count": 20,
   "metadata": {},
   "outputs": [],
   "source": [
    "lines = []\n",
    "\n",
    "\n",
    "def modern_print(line: str):\n",
    "    if line not in lines:\n",
    "        print(line)\n",
    "        lines.append(line)"
   ]
  },
  {
   "cell_type": "code",
   "execution_count": 21,
   "metadata": {},
   "outputs": [
    {
     "name": "stdout",
     "output_type": "stream",
     "text": [
      "Ало!\n",
      "Я тебя не слышу\n",
      "Позвони когда сможешь\n"
     ]
    }
   ],
   "source": [
    "modern_print(\"Ало!\")\n",
    "modern_print(\"Ало!\")\n",
    "modern_print(\"Я тебя не слышу\")\n",
    "modern_print(\"Ало!\")\n",
    "modern_print(\"Ало!\")\n",
    "modern_print(\"Позвони когда сможешь\")\n",
    "modern_print(\"Позвони когда сможешь\")\n",
    "modern_print(\"Я тебя не слышу\")"
   ]
  },
  {
   "cell_type": "markdown",
   "metadata": {},
   "source": [
    "# Шахматный «обед»\n",
    "\n",
    "Напишите функцию `can_eat`, которая принимает положение коня и другой фигуры в виде кортежей из двух координат, а возвращает булево значение: `True` если конь съедает фигуру и `False` иначе.\n",
    "\n",
    "## Примечание\n",
    "\n",
    "Ваше решение должно содержать только функции.\n",
    "В решении не должно быть вызовов требуемых функций.\n",
    "\n",
    "### Пример 1\n",
    "\n",
    "| Ввод | Вывод |\n",
    "| ---- | ----- |\n",
    "| `result = can_eat((2, 1), (4, 2))` | `result = True` |\n",
    "\n",
    "### Пример 2\n",
    "\n",
    "| Ввод | Вывод |\n",
    "| ---- | ----- |\n",
    "| `result = can_eat((5, 5), (6, 6))` | `result = False` |\n"
   ]
  },
  {
   "cell_type": "code",
   "execution_count": 38,
   "metadata": {},
   "outputs": [],
   "source": [
    "import itertools\n",
    "\n",
    "\n",
    "def can_eat(p1: tuple[int, int], p2: tuple[int, int]) -> bool:\n",
    "    # Generate all possible moves\n",
    "    moves = filter(lambda i: abs(i[0]) != abs(\n",
    "        i[1]), itertools.permutations([1, 2, -1, -2], r=2))\n",
    "    # Offset p1 by move positions\n",
    "    pos = map(lambda pm: (p1[0] + pm[0], p1[1] + pm[1]), moves)\n",
    "    return any(p == p2 for p in pos)"
   ]
  },
  {
   "cell_type": "code",
   "execution_count": 39,
   "metadata": {},
   "outputs": [
    {
     "name": "stdout",
     "output_type": "stream",
     "text": [
      "True\n"
     ]
    }
   ],
   "source": [
    "print(can_eat((2, 1), (4, 2)))"
   ]
  },
  {
   "cell_type": "markdown",
   "metadata": {},
   "source": [
    "# А роза упала на лапу Азора 7.0\n",
    "\n",
    "Напишите функцию `is_palindrome`, которая принимает натуральное число, строку, кортеж или список, а возвращает логическое значение: `True` — если передан палиндром, а в противном случае — `False`.\n",
    "\n",
    "## Примечание\n",
    "\n",
    "Ваше решение должно содержать только функции.\n",
    "В решении не должно быть вызовов требуемых функций.\n",
    "\n",
    "Для определения типа параметра можно воспользоваться функцией type или более продвинутой isinstance.\n",
    "\n",
    "### Пример 1\n",
    "\n",
    "| Ввод | Вывод |\n",
    "| ---- | ----- |\n",
    "| `result = is_palindrome(123)` | `result = False` |\n",
    "\n",
    "### Пример 2\n",
    "\n",
    "| Ввод | Вывод |\n",
    "| ---- | ----- |\n",
    "| `result = is_palindrome([1, 2, 1, 2, 1])` | `result = True` |"
   ]
  },
  {
   "cell_type": "code",
   "execution_count": 14,
   "metadata": {},
   "outputs": [],
   "source": [
    "from typing import Iterable, cast\n",
    "\n",
    "\n",
    "def is_palindrome(some_input: Iterable[int] | int):\n",
    "    # Create an iterator of number digits, or use the iterator provided.\n",
    "    numbers = list(\n",
    "        map(int, str(some_input)) if isinstance(some_input, int)\n",
    "        else iter(cast(Iterable[int], some_input))\n",
    "    )\n",
    "    return numbers == numbers[::-1]"
   ]
  },
  {
   "cell_type": "code",
   "execution_count": 13,
   "metadata": {},
   "outputs": [
    {
     "name": "stdout",
     "output_type": "stream",
     "text": [
      "True\n"
     ]
    },
    {
     "data": {
      "text/plain": [
       "True"
      ]
     },
     "execution_count": 13,
     "metadata": {},
     "output_type": "execute_result"
    }
   ],
   "source": [
    "is_palindrome(1221)"
   ]
  },
  {
   "cell_type": "markdown",
   "metadata": {},
   "source": [
    "# Простая задача 5.0\n",
    "\n",
    "Напишите функцию `is_prime`, которая принимает натуральное число, а возвращает булево значение: `True` — если переданное число простое, а иначе — `False`.\n",
    "\n",
    "## Примечание\n",
    "\n",
    "Ваше решение должно содержать только функции.\n",
    "В решении не должно быть вызовов требуемых функций.\n",
    "\n",
    "### Пример 1\n",
    "\n",
    "| Ввод | Вывод |\n",
    "| ---- | ----- |\n",
    "| `result = is_prime(1001459)` | `result = True` |\n",
    "\n",
    "### Пример 2\n",
    "\n",
    "| Ввод | Вывод |\n",
    "| ---- | ----- |\n",
    "| `result = is_prime(79701)` | `result = False` |\n"
   ]
  },
  {
   "cell_type": "code",
   "execution_count": 3,
   "metadata": {},
   "outputs": [],
   "source": [
    "def is_prime(n: int) -> bool:\n",
    "    if n == 1:\n",
    "        return False\n",
    "    elif n == 2 or n == 3:\n",
    "        return True\n",
    "    elif n % 2 == 0 or n % 3 == 0:\n",
    "        return False\n",
    "    i = 5\n",
    "    while i * i <= n:\n",
    "        if n % i == 0 or n % (i + 2) == 0:\n",
    "            return False\n",
    "        i += 6\n",
    "    return True"
   ]
  },
  {
   "cell_type": "code",
   "execution_count": 7,
   "metadata": {},
   "outputs": [
    {
     "name": "stdout",
     "output_type": "stream",
     "text": [
      "True\n",
      "False\n"
     ]
    }
   ],
   "source": [
    "print(is_prime(1001459))\n",
    "print(is_prime(79701))"
   ]
  },
  {
   "cell_type": "markdown",
   "metadata": {},
   "source": [
    "# Слияние\n",
    "\n",
    "Напишите функцию `merge`, которая принимает два отсортированных по возрастанию кортежа целых чисел, а возвращает один из всех переданных чисел.\n",
    "\n",
    "## Примечание\n",
    "\n",
    "Ваше решение должно содержать только функции.\n",
    "\n",
    "В решении не должно быть вызовов требуемых функций.\n",
    "\n",
    "*В этой задаче отключены стандартные сортировки*\n",
    "\n",
    "### Пример 1\n",
    "\n",
    "| Ввод | Вывод |\n",
    "| ---- | ----- |\n",
    "| `result = merge((1, 2), (3, 4, 5))` | `result = (1, 2, 3, 4, 5)` |\n",
    "\n",
    "### Пример 2\n",
    "\n",
    "| Ввод | Вывод |\n",
    "| ---- | ----- |\n",
    "| `result = merge((7, 12), (1, 9, 50))` | `result = (1, 7, 9, 12, 50)` |\n"
   ]
  },
  {
   "cell_type": "code",
   "execution_count": 18,
   "metadata": {},
   "outputs": [],
   "source": [
    "def merge(t1: tuple[int, ...], t2: tuple[int, ...]) -> tuple[int, ...]:\n",
    "    result = list(t1)\n",
    "    for n in t2:\n",
    "        # Pick all indices of numbers that we can place this number after\n",
    "        ids = [i for i, j in enumerate(result) if n >= j]\n",
    "        if len(ids) == 0:\n",
    "            idx = 0  # All numbers are greater than this number. Place it at the start\n",
    "        else:\n",
    "            idx = ids[-1] + 1  # Place it after the largest number\n",
    "        result.insert(idx, n)\n",
    "    return tuple(result)"
   ]
  },
  {
   "cell_type": "code",
   "execution_count": 22,
   "metadata": {},
   "outputs": [
    {
     "name": "stdout",
     "output_type": "stream",
     "text": [
      "(1, 2, 3, 4, 5)\n",
      "(1, 7, 9, 12, 50)\n"
     ]
    }
   ],
   "source": [
    "print(merge((1, 2), (3, 4, 5)))\n",
    "print(merge((7, 12), (1, 9, 50)))"
   ]
  }
 ],
 "metadata": {
  "kernelspec": {
   "display_name": "Python 3",
   "language": "python",
   "name": "python3"
  },
  "language_info": {
   "codemirror_mode": {
    "name": "ipython",
    "version": 3
   },
   "file_extension": ".py",
   "mimetype": "text/x-python",
   "name": "python",
   "nbconvert_exporter": "python",
   "pygments_lexer": "ipython3",
   "version": "3.11.5"
  }
 },
 "nbformat": 4,
 "nbformat_minor": 2
}
